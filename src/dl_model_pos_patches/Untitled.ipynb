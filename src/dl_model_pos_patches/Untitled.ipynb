{
 "cells": [
  {
   "cell_type": "code",
   "execution_count": null,
   "metadata": {
    "collapsed": true
   },
   "outputs": [],
   "source": []
  },
  {
   "cell_type": "code",
   "execution_count": null,
   "metadata": {
    "collapsed": true
   },
   "outputs": [],
   "source": [
    "import os\n",
    "import random\n",
    "import logging\n",
    "import multiprocessing\n",
    "import numpy as np\n",
    "import pandas as pd\n",
    "from time import time\n",
    "import matplotlib.pyplot as plt\n",
    "from utils import plotting\n",
    "from dl_model_patches import  common\n",
    "from sklearn import metrics\n",
    "from keras import backend as K\n",
    "from keras.preprocessing.image import ImageDataGenerator\n",
    "from keras.optimizers import Adam\n",
    "from keras.callbacks import ModelCheckpoint, Callback\n",
    "from dl_networks.sample_resnet import ResnetBuilder\n",
    "from dl_utils.tb_callback import TensorBoard\n",
    "\n",
    "\n",
    "# PATHS\n",
    "wp = os.environ['LUNG_PATH']\n",
    "INPUT_PATH = '/mnt/hd2/preprocessed5'  # INPUT_PATH = wp + 'data/preprocessed5_sample'\n",
    "VALIDATION_PATH = '/mnt/hd2/preprocessed5_validation_luna'\n",
    "NODULES_PATH = wp + 'data/luna/annotations.csv'\n",
    "PATCHES_PATH = '/mnt/hd2/patches'  # PATCHES_PATH = wp + 'data/preprocessed5_patches'\n",
    "\n",
    "OUTPUT_MODEL = wp + 'models/jm_patches_train_v17.hdf5'  # OUTPUT_MODEL = wp + 'personal/jm_patches_train_v06_local.hdf5'\n",
    "LOGS_PATH = wp + 'logs/%s' % str('v17')\n",
    "\n",
    "#LOGS_PATH = wp + 'logs/%s' % str(int(time()))\n",
    "if not os.path.exists(LOGS_PATH):\n",
    "    os.makedirs(LOGS_PATH)\n",
    "\n",
    "\n",
    "\n",
    "# OTHER INITIALIZATIONS: tensorboard, model checkpoint and logging\n",
    "#tb = TensorBoard(log_dir=LOGS_PATH, histogram_freq=1, write_graph=False, write_images=False)  # replace keras.callbacks.TensorBoard\n",
    "#model_checkpoint = ModelCheckpoint(OUTPUT_MODEL, monitor='loss', save_best_only=True)\n",
    "K.set_image_dim_ordering('th')\n",
    "logging.basicConfig(level=logging.INFO,\n",
    "                    format='%(asctime)s  %(levelname)-8s %(message)s',\n",
    "                    datefmt='%m-%d %H:%M:%S')\n",
    "\n",
    "\n",
    "### PATCHES GENERATION -----------------------------------------------------------------\n",
    "\n",
    "## PATIENTS FILE LIST\n",
    "patients_with_annotations = pd.read_csv(NODULES_PATH)  # filter patients with no annotations to avoid having to read them\n",
    "patients_with_annotations = list(set(patients_with_annotations['seriesuid']))\n",
    "patients_with_annotations = [\"luna_%s.npz\" % p.split('.')[-1] for p in patients_with_annotations]\n",
    "\n",
    "filenames = os.listdir(INPUT_PATH)\n",
    "filenames = [g for g in filenames if g.startswith('luna_')]\n",
    "filenames_train = [os.path.join(INPUT_PATH, fp) for fp in filenames if fp in patients_with_annotations]\n",
    "filenames_test = [os.path.join(VALIDATION_PATH, fp) for fp in os.listdir(VALIDATION_PATH) if fp in patients_with_annotations]\n",
    "\n",
    "\n",
    "def __load_and_store(filename):\n",
    "    patient_data = np.load(filename)['arr_0']\n",
    "    X, y, rois, stats = common.load_patient(patient_data, discard_empty_nodules=True, output_rois=True, debug=True, thickness=1)\n",
    "    logging.info(\"Patient: %s, stats: %s\" % (filename.split('/')[-1], stats))\n",
    "    return X, y, stats\n",
    "\n",
    "common.multiproc_crop_generator(filenames_train[0:100],\n",
    "                                os.path.join(PATCHES_PATH,'x_train_dl1_5.npz'),\n",
    "                                os.path.join(PATCHES_PATH,'y_train_dl1_5.npz'),\n",
    "                                __load_and_store, store=False)\n"
   ]
  }
 ],
 "metadata": {
  "kernelspec": {
   "display_name": "Python 3",
   "language": "python",
   "name": "python3"
  },
  "language_info": {
   "codemirror_mode": {
    "name": "ipython",
    "version": 3
   },
   "file_extension": ".py",
   "mimetype": "text/x-python",
   "name": "python",
   "nbconvert_exporter": "python",
   "pygments_lexer": "ipython3",
   "version": "3.5.2"
  }
 },
 "nbformat": 4,
 "nbformat_minor": 2
}
