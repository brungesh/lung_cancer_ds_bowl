{
 "cells": [
  {
   "cell_type": "code",
   "execution_count": 1,
   "metadata": {
    "collapsed": true,
    "deletable": true,
    "editable": true
   },
   "outputs": [],
   "source": [
    "import sys\n",
    "sys.path.append('..')\n",
    "wp = '/home/jose/lung_cancer_ds_bowl/'"
   ]
  },
  {
   "cell_type": "code",
   "execution_count": 5,
   "metadata": {
    "collapsed": false,
    "deletable": true,
    "editable": true
   },
   "outputs": [],
   "source": [
    "import os\n",
    "import random\n",
    "import logging\n",
    "import multiprocessing\n",
    "import numpy as np\n",
    "import pandas as pd\n",
    "from time import time\n",
    "import matplotlib.pyplot as plt\n",
    "from utils import plotting\n",
    "from dl_model_pos_patches import  common\n",
    "from sklearn import metrics\n",
    "from keras import backend as K\n",
    "from keras.preprocessing.image import ImageDataGenerator\n",
    "from keras.optimizers import Adam\n",
    "from keras.callbacks import ModelCheckpoint, Callback\n",
    "from dl_networks.sample_resnet import ResnetBuilder\n",
    "from dl_utils.tb_callback import TensorBoard\n",
    "\n",
    "\n",
    "\n",
    "\n",
    "# PATHS\n",
    "wp = os.environ['LUNG_PATH']\n",
    "\n",
    "\n",
    "INPUT_PATH = '/mnt/hd2/preprocessed5'  # INPUT_PATH = wp + 'data/preprocessed5_sample'\n",
    "VALIDATION_PATH = '/mnt/hd2/preprocessed5_validation_luna'\n",
    "NODULES_PATH = wp + 'data/luna/annotations.csv'\n",
    "#PATCHES_PATH = '/mnt/hd2/patches'  # PATCHES_PATH = wp + 'data/preprocessed5_patches'\n",
    "PATCHES_PATH = '/home/jose/patches_temp'\n",
    "\n",
    "OUTPUT_MODEL = wp + 'models/jm_patches_train_v17.hdf5'  # OUTPUT_MODEL = wp + 'personal/jm_patches_train_v06_local.hdf5'\n",
    "LOGS_PATH = wp + 'logs/%s' % str('v17')\n",
    "\n",
    "#LOGS_PATH = wp + 'logs/%s' % str(int(time()))\n",
    "if not os.path.exists(LOGS_PATH):\n",
    "    os.makedirs(LOGS_PATH)\n",
    "\n",
    "\n",
    "\n",
    "# OTHER INITIALIZATIONS: tensorboard, model checkpoint and logging\n",
    "#tb = TensorBoard(log_dir=LOGS_PATH, histogram_freq=1, write_graph=False, write_images=False)  # replace keras.callbacks.TensorBoard\n",
    "#model_checkpoint = ModelCheckpoint(OUTPUT_MODEL, monitor='loss', save_best_only=True)\n",
    "K.set_image_dim_ordering('th')\n",
    "logging.basicConfig(level=logging.INFO,\n",
    "                    format='%(asctime)s  %(levelname)-8s %(message)s',\n",
    "                    datefmt='%m-%d %H:%M:%S')\n",
    "\n",
    "\n",
    "### PATCHES GENERATION -----------------------------------------------------------------\n",
    "\n",
    "## PATIENTS FILE LIST\n",
    "patients_with_annotations = pd.read_csv(NODULES_PATH)  # filter patients with no annotations to avoid having to read them\n",
    "patients_with_annotations = list(set(patients_with_annotations['seriesuid']))\n",
    "patients_with_annotations = [\"luna_%s.npz\" % p.split('.')[-1] for p in patients_with_annotations]\n",
    "\n",
    "filenames = os.listdir(INPUT_PATH)\n",
    "filenames = [g for g in filenames if g.startswith('luna_')]\n",
    "filenames_train = [os.path.join(INPUT_PATH, fp) for fp in filenames if fp in patients_with_annotations]\n",
    "filenames_test = [os.path.join(VALIDATION_PATH, fp) for fp in os.listdir(VALIDATION_PATH) if fp in patients_with_annotations]\n",
    "\n",
    "\n",
    "\n",
    "SLICE_DOWNSAMPLE = 12\n",
    "SLICE_LUNG_SHAPE = (18,18)\n",
    "\n",
    "def __load_and_store(filename):\n",
    "    patient_data = np.load(filename)['arr_0']\n",
    "    X, y, rois, stats = common.load_patient_3d_atlas(patient_data, \n",
    "                                                                 discard_empty_nodules=True, output_rois=True, debug=True, thickness=1,\n",
    "                                                                 slice_downsample = SLICE_DOWNSAMPLE, slice_lung_shape=SLICE_LUNG_SHAPE\n",
    "                                                                )\n",
    "    logging.info(\"Patient: %s, stats: %s\" % (filename.split('/')[-1], stats))\n",
    "    return X, y, stats\n",
    "\n",
    "common.multiproc_crop_generator(filenames_train,\n",
    "                                os.path.join(PATCHES_PATH,'x_train_dl_pos_0.npz'),\n",
    "                                os.path.join(PATCHES_PATH,'y_train_dl_pos_0.npz'),\n",
    "                                __load_and_store, store=True)\n",
    "\n",
    "common.multiproc_crop_generator(filenames_test,\n",
    "                                 os.path.join(PATCHES_PATH,'x_test_dl_pos_0.npz'),\n",
    "                                 os.path.join(PATCHES_PATH,'y_test_dl_pos_0.npz'),\n",
    "                                 __load_and_store)\n"
   ]
  },
  {
   "cell_type": "code",
   "execution_count": 7,
   "metadata": {
    "collapsed": false,
    "deletable": true,
    "editable": true
   },
   "outputs": [
    {
     "name": "stderr",
     "output_type": "stream",
     "text": [
      "04-02 14:18:38  INFO     Loading 0/5\n",
      "04-02 14:18:45  INFO     ++ Slice 104, stats: {'fp': 25, 'tp': 1, 'fn': 0}\n",
      "04-02 14:18:45  INFO     ++ Slice 105, stats: {'fp': 24, 'tp': 1, 'fn': 0}\n",
      "04-02 14:18:45  INFO     ++ Slice 106, stats: {'fp': 27, 'tp': 1, 'fn': 0}\n",
      "04-02 14:18:46  INFO     ++ Slice 107, stats: {'fp': 22, 'tp': 1, 'fn': 0}\n",
      "04-02 14:18:46  INFO     ++ Slice 108, stats: {'fp': 30, 'tp': 1, 'fn': 0}\n",
      "04-02 14:18:46  INFO     Patient: luna_271220641987745483198036913951.npz, stats: {'fp': 128, 'fn': 0, 'tp': 5}\n",
      "04-02 14:18:46  INFO     Loading 1/5\n"
     ]
    },
    {
     "name": "stdout",
     "output_type": "stream",
     "text": [
      "(14, 18, 18)\n"
     ]
    },
    {
     "name": "stderr",
     "output_type": "stream",
     "text": [
      "04-02 14:18:51  INFO     ++ Slice 98, stats: {'fp': 31, 'tp': 1, 'fn': 0}\n",
      "04-02 14:18:51  INFO     ++ Slice 99, stats: {'fp': 29, 'tp': 1, 'fn': 0}\n",
      "04-02 14:18:51  INFO     ++ Slice 100, stats: {'fp': 33, 'tp': 1, 'fn': 0}\n",
      "04-02 14:18:52  INFO     ++ Slice 138, stats: {'fp': 25, 'tp': 1, 'fn': 0}\n",
      "04-02 14:18:52  INFO     ++ Slice 139, stats: {'fp': 25, 'tp': 1, 'fn': 0}\n",
      "04-02 14:18:52  INFO     ++ Slice 140, stats: {'fp': 26, 'tp': 1, 'fn': 0}\n",
      "04-02 14:18:52  INFO     Patient: luna_569096986145782511000054443951.npz, stats: {'fp': 169, 'fn': 0, 'tp': 6}\n",
      "04-02 14:18:52  INFO     Loading 2/5\n"
     ]
    },
    {
     "name": "stdout",
     "output_type": "stream",
     "text": [
      "(14, 18, 18)\n"
     ]
    },
    {
     "name": "stderr",
     "output_type": "stream",
     "text": [
      "04-02 14:18:56  INFO     ++ Slice 66, stats: {'fp': 64, 'tp': 1, 'fn': 0}\n",
      "04-02 14:18:56  INFO     ++ Slice 67, stats: {'fp': 61, 'tp': 1, 'fn': 0}\n",
      "04-02 14:18:56  INFO     ++ Slice 68, stats: {'fp': 55, 'tp': 1, 'fn': 0}\n",
      "04-02 14:18:57  INFO     ++ Slice 85, stats: {'fp': 35, 'tp': 1, 'fn': 0}\n",
      "04-02 14:18:57  INFO     Patient: luna_242624386080831911167122628616.npz, stats: {'fp': 215, 'fn': 0, 'tp': 4}\n",
      "04-02 14:18:57  INFO     Loading 3/5\n"
     ]
    },
    {
     "name": "stdout",
     "output_type": "stream",
     "text": [
      "(12, 18, 18)\n"
     ]
    },
    {
     "name": "stderr",
     "output_type": "stream",
     "text": [
      "04-02 14:18:58  INFO     ++ Slice 97, stats: {'fp': 60, 'tp': 1, 'fn': 0}\n",
      "04-02 14:18:58  INFO     ++ Slice 98, stats: {'fp': 58, 'tp': 1, 'fn': 0}\n",
      "04-02 14:18:58  INFO     Patient: luna_395623571499047043765181005112.npz, stats: {'fp': 118, 'fn': 0, 'tp': 2}\n",
      "04-02 14:18:58  INFO     Loading 4/5\n"
     ]
    },
    {
     "name": "stdout",
     "output_type": "stream",
     "text": [
      "(11, 18, 18)\n"
     ]
    },
    {
     "name": "stderr",
     "output_type": "stream",
     "text": [
      "04-02 14:19:00  INFO     ++ Slice 46, stats: {'fp': 32, 'tp': 0, 'fn': 1}\n",
      "04-02 14:19:00  INFO     ++ Slice 47, stats: {'fp': 35, 'tp': 0, 'fn': 1}\n",
      "04-02 14:19:00  INFO     ++ Slice 107, stats: {'fp': 27, 'tp': 1, 'fn': 0}\n",
      "04-02 14:19:00  INFO     ++ Slice 108, stats: {'fp': 23, 'tp': 1, 'fn': 0}\n",
      "04-02 14:19:00  INFO     ++ Slice 109, stats: {'fp': 17, 'tp': 1, 'fn': 0}\n",
      "04-02 14:19:01  INFO     ++ Slice 110, stats: {'fp': 22, 'tp': 1, 'fn': 0}\n",
      "04-02 14:19:01  INFO     Patient: luna_241717018262666382493757419144.npz, stats: {'fp': 156, 'fn': 2, 'tp': 4}\n",
      "04-02 14:19:01  INFO     Total time: 22.46, total patients:163, stats: {'fp': 786, 'tp': 21, 'fn': 2}\n"
     ]
    },
    {
     "name": "stdout",
     "output_type": "stream",
     "text": [
      "(13, 18, 18)\n"
     ]
    },
    {
     "name": "stderr",
     "output_type": "stream",
     "text": [
      "04-02 14:19:05  INFO     Finished saving files\n",
      "04-02 14:19:05  INFO     Loading 0/5\n",
      "04-02 14:19:06  INFO     ++ Slice 55, stats: {'fp': 50, 'tp': 1, 'fn': 0}\n",
      "04-02 14:19:07  INFO     ++ Slice 56, stats: {'fp': 57, 'tp': 1, 'fn': 0}\n",
      "04-02 14:19:07  INFO     ++ Slice 57, stats: {'fp': 62, 'tp': 1, 'fn': 0}\n",
      "04-02 14:19:07  INFO     Patient: luna_119806527488108718706404165837.npz, stats: {'fp': 169, 'fn': 0, 'tp': 3}\n",
      "04-02 14:19:07  INFO     Loading 1/5\n"
     ]
    },
    {
     "name": "stdout",
     "output_type": "stream",
     "text": [
      "(14, 18, 18)\n"
     ]
    },
    {
     "name": "stderr",
     "output_type": "stream",
     "text": [
      "04-02 14:19:09  INFO     ++ Slice 135, stats: {'fp': 42, 'tp': 1, 'fn': 0}\n",
      "04-02 14:19:09  INFO     ++ Slice 136, stats: {'fp': 42, 'tp': 1, 'fn': 0}\n",
      "04-02 14:19:09  INFO     ++ Slice 137, stats: {'fp': 36, 'tp': 2, 'fn': 0}\n",
      "04-02 14:19:09  INFO     ++ Slice 138, stats: {'fp': 37, 'tp': 2, 'fn': 0}\n",
      "04-02 14:19:10  INFO     ++ Slice 139, stats: {'fp': 34, 'tp': 2, 'fn': 0}\n",
      "04-02 14:19:10  INFO     ++ Slice 140, stats: {'fp': 31, 'tp': 2, 'fn': 0}\n",
      "04-02 14:19:10  INFO     ++ Slice 141, stats: {'fp': 29, 'tp': 2, 'fn': 0}\n",
      "04-02 14:19:10  INFO     ++ Slice 142, stats: {'fp': 41, 'tp': 2, 'fn': 0}\n",
      "04-02 14:19:10  INFO     ++ Slice 143, stats: {'fp': 37, 'tp': 2, 'fn': 0}\n",
      "04-02 14:19:10  INFO     ++ Slice 144, stats: {'fp': 39, 'tp': 2, 'fn': 0}\n",
      "04-02 14:19:10  INFO     ++ Slice 145, stats: {'fp': 32, 'tp': 2, 'fn': 0}\n",
      "04-02 14:19:10  INFO     ++ Slice 146, stats: {'fp': 37, 'tp': 1, 'fn': 0}\n",
      "04-02 14:19:11  INFO     ++ Slice 147, stats: {'fp': 43, 'tp': 1, 'fn': 0}\n",
      "04-02 14:19:11  INFO     ++ Slice 148, stats: {'fp': 39, 'tp': 1, 'fn': 0}\n",
      "04-02 14:19:11  INFO     ++ Slice 149, stats: {'fp': 32, 'tp': 1, 'fn': 0}\n",
      "04-02 14:19:11  INFO     ++ Slice 150, stats: {'fp': 32, 'tp': 1, 'fn': 0}\n",
      "04-02 14:19:11  INFO     Patient: luna_112740418331256326754121315800.npz, stats: {'fp': 583, 'fn': 0, 'tp': 25}\n",
      "04-02 14:19:11  INFO     Loading 2/5\n"
     ]
    },
    {
     "name": "stdout",
     "output_type": "stream",
     "text": [
      "(15, 18, 18)\n"
     ]
    },
    {
     "name": "stderr",
     "output_type": "stream",
     "text": [
      "04-02 14:19:13  INFO     ++ Slice 71, stats: {'fp': 49, 'tp': 1, 'fn': 0}\n",
      "04-02 14:19:13  INFO     ++ Slice 80, stats: {'fp': 47, 'tp': 1, 'fn': 0}\n",
      "04-02 14:19:13  INFO     ++ Slice 85, stats: {'fp': 51, 'tp': 1, 'fn': 0}\n",
      "04-02 14:19:13  INFO     ++ Slice 86, stats: {'fp': 56, 'tp': 1, 'fn': 0}\n",
      "04-02 14:19:13  INFO     ++ Slice 87, stats: {'fp': 52, 'tp': 1, 'fn': 0}\n",
      "04-02 14:19:13  INFO     ++ Slice 88, stats: {'fp': 52, 'tp': 1, 'fn': 0}\n",
      "04-02 14:19:14  INFO     ++ Slice 102, stats: {'fp': 56, 'tp': 1, 'fn': 0}\n",
      "04-02 14:19:14  INFO     ++ Slice 103, stats: {'fp': 53, 'tp': 1, 'fn': 0}\n",
      "04-02 14:19:14  INFO     ++ Slice 107, stats: {'fp': 56, 'tp': 1, 'fn': 0}\n",
      "04-02 14:19:14  INFO     ++ Slice 108, stats: {'fp': 51, 'tp': 1, 'fn': 0}\n",
      "04-02 14:19:14  INFO     ++ Slice 110, stats: {'fp': 45, 'tp': 1, 'fn': 0}\n",
      "04-02 14:19:14  INFO     ++ Slice 112, stats: {'fp': 49, 'tp': 2, 'fn': 0}\n",
      "04-02 14:19:15  INFO     ++ Slice 113, stats: {'fp': 41, 'tp': 2, 'fn': 0}\n",
      "04-02 14:19:15  INFO     ++ Slice 114, stats: {'fp': 36, 'tp': 1, 'fn': 0}\n",
      "04-02 14:19:15  INFO     ++ Slice 115, stats: {'fp': 39, 'tp': 1, 'fn': 0}\n",
      "04-02 14:19:15  INFO     Patient: luna_112767175295249119452142211437.npz, stats: {'fp': 733, 'fn': 0, 'tp': 17}\n",
      "04-02 14:19:15  INFO     Loading 3/5\n"
     ]
    },
    {
     "name": "stdout",
     "output_type": "stream",
     "text": [
      "(12, 18, 18)\n"
     ]
    },
    {
     "name": "stderr",
     "output_type": "stream",
     "text": [
      "04-02 14:19:17  INFO     ++ Slice 40, stats: {'fp': 20, 'tp': 1, 'fn': 0}\n",
      "04-02 14:19:17  INFO     ++ Slice 41, stats: {'fp': 28, 'tp': 1, 'fn': 0}\n",
      "04-02 14:19:17  INFO     ++ Slice 42, stats: {'fp': 26, 'tp': 1, 'fn': 0}\n",
      "04-02 14:19:17  INFO     ++ Slice 43, stats: {'fp': 32, 'tp': 1, 'fn': 0}\n",
      "04-02 14:19:17  INFO     ++ Slice 55, stats: {'fp': 51, 'tp': 1, 'fn': 0}\n",
      "04-02 14:19:17  INFO     ++ Slice 56, stats: {'fp': 52, 'tp': 1, 'fn': 0}\n",
      "04-02 14:19:18  INFO     ++ Slice 57, stats: {'fp': 50, 'tp': 1, 'fn': 0}\n",
      "04-02 14:19:18  INFO     ++ Slice 58, stats: {'fp': 54, 'tp': 1, 'fn': 0}\n",
      "04-02 14:19:18  INFO     ++ Slice 59, stats: {'fp': 55, 'tp': 1, 'fn': 0}\n",
      "04-02 14:19:18  INFO     ++ Slice 81, stats: {'fp': 45, 'tp': 1, 'fn': 0}\n",
      "04-02 14:19:18  INFO     ++ Slice 82, stats: {'fp': 41, 'tp': 1, 'fn': 0}\n",
      "04-02 14:19:18  INFO     ++ Slice 83, stats: {'fp': 42, 'tp': 1, 'fn': 0}\n",
      "04-02 14:19:19  INFO     Patient: luna_118140393257625250121502185026.npz, stats: {'fp': 496, 'fn': 0, 'tp': 12}\n",
      "04-02 14:19:19  INFO     Loading 4/5\n"
     ]
    },
    {
     "name": "stdout",
     "output_type": "stream",
     "text": [
      "(14, 18, 18)\n"
     ]
    },
    {
     "name": "stderr",
     "output_type": "stream",
     "text": [
      "04-02 14:19:24  INFO     ++ Slice 158, stats: {'fp': 27, 'tp': 1, 'fn': 0}\n",
      "04-02 14:19:24  INFO     ++ Slice 159, stats: {'fp': 20, 'tp': 1, 'fn': 0}\n",
      "04-02 14:19:24  INFO     ++ Slice 160, stats: {'fp': 21, 'tp': 1, 'fn': 0}\n",
      "04-02 14:19:24  INFO     Patient: luna_119515474430718803379832249911.npz, stats: {'fp': 68, 'fn': 0, 'tp': 3}\n",
      "04-02 14:19:25  INFO     Total time: 20.00, total patients:71, stats: {'fp': 2049, 'tp': 60, 'fn': 0}\n"
     ]
    },
    {
     "name": "stdout",
     "output_type": "stream",
     "text": [
      "(15, 18, 18)\n"
     ]
    },
    {
     "name": "stderr",
     "output_type": "stream",
     "text": [
      "04-02 14:19:34  INFO     Finished saving files\n"
     ]
    }
   ],
   "source": []
  },
  {
   "cell_type": "code",
   "execution_count": null,
   "metadata": {
    "collapsed": true,
    "deletable": true,
    "editable": true
   },
   "outputs": [],
   "source": []
  }
 ],
 "metadata": {
  "kernelspec": {
   "display_name": "Python 2",
   "language": "python",
   "name": "python2"
  },
  "language_info": {
   "codemirror_mode": {
    "name": "ipython",
    "version": 2
   },
   "file_extension": ".py",
   "mimetype": "text/x-python",
   "name": "python",
   "nbconvert_exporter": "python",
   "pygments_lexer": "ipython2",
   "version": "2.7.12"
  }
 },
 "nbformat": 4,
 "nbformat_minor": 2
}
