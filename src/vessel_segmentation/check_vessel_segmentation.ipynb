{
 "cells": [
  {
   "cell_type": "code",
   "execution_count": 1,
   "metadata": {
    "collapsed": false
   },
   "outputs": [],
   "source": [
    "import os\n",
    "import sys\n",
    "import itk\n",
    "import SimpleITK as sitk\n",
    "sys.path.append('/home/marti/lung_cancer_ds_bowl/src')\n",
    "sys.path.append('/home/marti/lung_cancer_ds_bowl/src/vessel_segmentation')\n",
    "import numpy as np\n",
    "from dl_model_patches.common import load_patient, add_stats\n",
    "from vessel_segmentation import get_vessel_mask, \\\n",
    "     substract_from_existing_mask"
   ]
  },
  {
   "cell_type": "code",
   "execution_count": 2,
   "metadata": {
    "collapsed": false
   },
   "outputs": [
    {
     "name": "stdout",
     "output_type": "stream",
     "text": [
      "Loading patient: /mnt/hd2/preprocessed5_sample/luna_141511313712034597336182402384.npz\n",
      "Getting its vessel mask...\n"
     ]
    },
    {
     "name": "stderr",
     "output_type": "stream",
     "text": [
      "03-26 18:40:18  INFO     ++ Slice 93, stats: {'fp': 23, 'tp': 1, 'fn': 0}\n",
      "03-26 18:40:18  INFO     ++ Slice 118, stats: {'fp': 30, 'tp': 1, 'fn': 0}\n",
      "03-26 18:40:18  INFO     ++ Slice 127, stats: {'fp': 27, 'tp': 1, 'fn': 0}\n"
     ]
    },
    {
     "name": "stdout",
     "output_type": "stream",
     "text": [
      "Stats before applying the vessel mask:\n",
      "{'fp': 80, 'fn': 0, 'tp': 3}\n"
     ]
    },
    {
     "name": "stderr",
     "output_type": "stream",
     "text": [
      "03-26 18:40:19  INFO     ++ Slice 93, stats: {'fp': 33, 'tp': 1, 'fn': 0}\n",
      "03-26 18:40:19  INFO     ++ Slice 118, stats: {'fp': 21, 'tp': 1, 'fn': 0}\n",
      "03-26 18:40:19  INFO     ++ Slice 127, stats: {'fp': 5, 'tp': 1, 'fn': 0}\n"
     ]
    },
    {
     "name": "stdout",
     "output_type": "stream",
     "text": [
      "Stats after applying the vessel mask:\n",
      "{'fp': 59, 'fn': 0, 'tp': 3}\n"
     ]
    }
   ],
   "source": [
    "### Quality checks for ROIs detection\n",
    "# wp = os.environ['LUNG_PATH']\n",
    "INPUT_PATH = '/mnt/hd2/preprocessed5_sample'\n",
    "# INPUT_PATH = wp + 'data/preprocessed5_sample_watershed'\n",
    "# INPUT_PATH = wp + 'data/preprocessed5_sample_th2'\n",
    "file_list = [os.path.join(INPUT_PATH, fp) for fp in os.listdir(INPUT_PATH)]\n",
    "\n",
    "total_stats = {}\n",
    "for filename in file_list:\n",
    "    print \"Loading patient: \" + filename\n",
    "    patient_data = np.load(filename)['arr_0']\n",
    "    print \"Getting its vessel mask...\"\n",
    "    vessel_mask = get_vessel_mask(patient_data[0])\n",
    "    X, y, rois, stats = load_patient(patient_data=patient_data, patient_nodules_df=None,\n",
    "                                     discard_empty_nodules=True, output_rois=True,\n",
    "                                     debug=True, thickness=1)\n",
    "    print \"Stats before applying the vessel mask:\\n\", stats\n",
    "    patient_data[1, :, :, :] = substract_from_existing_mask(patient_data[1, :, :, :], vessel_mask)\n",
    "    X, y, rois, stats = load_patient(patient_data=patient_data, patient_nodules_df=None,\n",
    "                                     discard_empty_nodules=True, output_rois=True,\n",
    "                                     debug=True, thickness=1)\n",
    "    print \"Stats after applying the vessel mask:\\n\", stats\n",
    "    break"
   ]
  },
  {
   "cell_type": "code",
   "execution_count": null,
   "metadata": {
    "collapsed": true
   },
   "outputs": [],
   "source": []
  }
 ],
 "metadata": {
  "kernelspec": {
   "display_name": "Python 2",
   "language": "python",
   "name": "python2"
  },
  "language_info": {
   "codemirror_mode": {
    "name": "ipython",
    "version": 2
   },
   "file_extension": ".py",
   "mimetype": "text/x-python",
   "name": "python",
   "nbconvert_exporter": "python",
   "pygments_lexer": "ipython2",
   "version": "2.7.12"
  }
 },
 "nbformat": 4,
 "nbformat_minor": 2
}
