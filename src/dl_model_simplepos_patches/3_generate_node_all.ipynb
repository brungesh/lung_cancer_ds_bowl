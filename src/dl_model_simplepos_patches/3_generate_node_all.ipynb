{
 "cells": [
  {
   "cell_type": "code",
   "execution_count": 2,
   "metadata": {
    "collapsed": true,
    "deletable": true,
    "editable": true
   },
   "outputs": [],
   "source": [
    "import sys\n",
    "sys.path.append('..')\n",
    "wp = '/home/jose/lung_cancer_ds_bowl/'"
   ]
  },
  {
   "cell_type": "code",
   "execution_count": 6,
   "metadata": {
    "collapsed": true
   },
   "outputs": [],
   "source": [
    "import os\n",
    "import random\n",
    "import logging\n",
    "import multiprocessing\n",
    "import numpy as np\n",
    "import pandas as pd\n",
    "from time import time\n",
    "import matplotlib.pyplot as plt\n",
    "from utils import plotting\n",
    "from dl_model_pos_patches import  common\n",
    "from sklearn import metrics\n",
    "from keras import backend as K\n",
    "from keras.preprocessing.image import ImageDataGenerator\n",
    "from keras.optimizers import Adam\n",
    "from keras.callbacks import ModelCheckpoint, Callback\n",
    "from dl_networks.sample_resnet import ResnetBuilder\n",
    "from dl_utils.tb_callback import TensorBoard"
   ]
  },
  {
   "cell_type": "code",
   "execution_count": 8,
   "metadata": {
    "collapsed": true
   },
   "outputs": [],
   "source": [
    "INPUT_PATH = '/mnt/hd2/preprocessed5'\n",
    "VALIDATION_PATH = '/mnt/hd2/preprocessed5_validation_luna'\n",
    "NODULES_PATH = wp + 'data/luna/annotations.csv'\n",
    "PATCHES_PATH = '/mnt/hd2/patches'\n",
    "\n",
    "K.set_image_dim_ordering('th')"
   ]
  },
  {
   "cell_type": "code",
   "execution_count": 13,
   "metadata": {
    "collapsed": true
   },
   "outputs": [],
   "source": [
    "### PATCHES GENERATION -----------------------------------------------------------------\n",
    "\n",
    "## PATIENTS FILE LIST\n",
    "patients_with_annotations = pd.read_csv(NODULES_PATH)  # filter patients with no annotations to avoid having to read them\n",
    "patients_with_annotations = list(set(patients_with_annotations['seriesuid']))\n",
    "patients_with_annotations = [\"luna_%s.npz\" % p.split('.')[-1] for p in patients_with_annotations]\n",
    "\n",
    "filenames = os.listdir(INPUT_PATH)\n",
    "filenames = [g for g in filenames if g.startswith('luna_')]\n",
    "filenames_train = [os.path.join(INPUT_PATH, fp) for fp in filenames if fp in patients_with_annotations]\n",
    "filenames_test = [os.path.join(VALIDATION_PATH, fp) for fp in os.listdir(VALIDATION_PATH) if fp in patients_with_annotations]\n",
    "filenames_dsb = [os.path.join(INPUT_PATH, g) for g in filenames if g.startswith('dsb_')]"
   ]
  },
  {
   "cell_type": "code",
   "execution_count": 11,
   "metadata": {
    "collapsed": true
   },
   "outputs": [],
   "source": [
    "def __load_and_store(filename):\n",
    "    patient_data = np.load(filename)['arr_0']\n",
    "    X, y, rois, stats = common.load_patient_3d_atlas(patient_data, \n",
    "                                                     discard_empty_nodules=True, output_rois=True, debug=True, thickness=1\n",
    "                                                    )\n",
    "    #logging.info(\"Patient: %s, stats: %s\" % (filename.split('/')[-1], stats))\n",
    "    return X, y, stats"
   ]
  },
  {
   "cell_type": "code",
   "execution_count": null,
   "metadata": {
    "collapsed": false
   },
   "outputs": [
    {
     "name": "stderr",
     "output_type": "stream",
     "text": [
      "04-05 17:54:54  INFO     Loading 0/583\n",
      "04-05 17:54:58  INFO     ++ Slice 104, stats: {'fp': 25, 'tp': 1, 'fn': 0}\n",
      "04-05 17:54:58  INFO     ++ Slice 105, stats: {'fp': 24, 'tp': 1, 'fn': 0}\n",
      "04-05 17:54:58  INFO     ++ Slice 106, stats: {'fp': 27, 'tp': 1, 'fn': 0}\n",
      "04-05 17:54:58  INFO     ++ Slice 107, stats: {'fp': 22, 'tp': 1, 'fn': 0}\n",
      "04-05 17:54:58  INFO     ++ Slice 108, stats: {'fp': 30, 'tp': 1, 'fn': 0}\n",
      "04-05 17:54:58  INFO     Loading 1/583\n"
     ]
    },
    {
     "name": "stdout",
     "output_type": "stream",
     "text": [
      "(17, 20, 20)\n"
     ]
    },
    {
     "name": "stderr",
     "output_type": "stream",
     "text": [
      "04-05 17:55:02  INFO     ++ Slice 98, stats: {'fp': 31, 'tp': 1, 'fn': 0}\n",
      "04-05 17:55:02  INFO     ++ Slice 99, stats: {'fp': 29, 'tp': 1, 'fn': 0}\n",
      "04-05 17:55:02  INFO     ++ Slice 100, stats: {'fp': 33, 'tp': 1, 'fn': 0}\n",
      "04-05 17:55:02  INFO     ++ Slice 138, stats: {'fp': 25, 'tp': 1, 'fn': 0}\n",
      "04-05 17:55:02  INFO     ++ Slice 139, stats: {'fp': 25, 'tp': 1, 'fn': 0}\n",
      "04-05 17:55:02  INFO     ++ Slice 140, stats: {'fp': 26, 'tp': 1, 'fn': 0}\n",
      "04-05 17:55:02  INFO     Loading 2/583\n"
     ]
    },
    {
     "name": "stdout",
     "output_type": "stream",
     "text": [
      "(17, 20, 20)\n"
     ]
    },
    {
     "name": "stderr",
     "output_type": "stream",
     "text": [
      "04-05 17:55:06  INFO     ++ Slice 66, stats: {'fp': 64, 'tp': 1, 'fn': 0}\n",
      "04-05 17:55:06  INFO     ++ Slice 67, stats: {'fp': 61, 'tp': 1, 'fn': 0}\n",
      "04-05 17:55:06  INFO     ++ Slice 68, stats: {'fp': 55, 'tp': 1, 'fn': 0}\n",
      "04-05 17:55:06  INFO     ++ Slice 85, stats: {'fp': 35, 'tp': 1, 'fn': 0}\n",
      "04-05 17:55:06  INFO     Loading 3/583\n"
     ]
    },
    {
     "name": "stdout",
     "output_type": "stream",
     "text": [
      "(15, 20, 20)\n"
     ]
    },
    {
     "name": "stderr",
     "output_type": "stream",
     "text": [
      "04-05 17:55:08  INFO     ++ Slice 97, stats: {'fp': 60, 'tp': 1, 'fn': 0}\n",
      "04-05 17:55:08  INFO     ++ Slice 98, stats: {'fp': 58, 'tp': 1, 'fn': 0}\n",
      "04-05 17:55:08  INFO     Loading 4/583\n"
     ]
    },
    {
     "name": "stdout",
     "output_type": "stream",
     "text": [
      "(13, 20, 20)\n"
     ]
    },
    {
     "name": "stderr",
     "output_type": "stream",
     "text": [
      "04-05 17:55:09  INFO     ++ Slice 46, stats: {'fp': 32, 'tp': 0, 'fn': 1}\n",
      "04-05 17:55:09  INFO     ++ Slice 47, stats: {'fp': 35, 'tp': 0, 'fn': 1}\n",
      "04-05 17:55:09  INFO     ++ Slice 107, stats: {'fp': 27, 'tp': 1, 'fn': 0}\n",
      "04-05 17:55:09  INFO     ++ Slice 108, stats: {'fp': 23, 'tp': 1, 'fn': 0}\n",
      "04-05 17:55:09  INFO     ++ Slice 109, stats: {'fp': 17, 'tp': 1, 'fn': 0}\n",
      "04-05 17:55:09  INFO     ++ Slice 110, stats: {'fp': 22, 'tp': 1, 'fn': 0}\n",
      "04-05 17:55:09  INFO     Loading 5/583\n"
     ]
    },
    {
     "name": "stdout",
     "output_type": "stream",
     "text": [
      "(16, 20, 20)\n"
     ]
    },
    {
     "name": "stderr",
     "output_type": "stream",
     "text": [
      "04-05 17:55:11  INFO     ++ Slice 79, stats: {'fp': 45, 'tp': 1, 'fn': 0}\n",
      "04-05 17:55:11  INFO     ++ Slice 80, stats: {'fp': 42, 'tp': 2, 'fn': 0}\n",
      "04-05 17:55:11  INFO     ++ Slice 81, stats: {'fp': 44, 'tp': 2, 'fn': 0}\n",
      "04-05 17:55:11  INFO     ++ Slice 82, stats: {'fp': 49, 'tp': 2, 'fn': 0}\n",
      "04-05 17:55:12  INFO     ++ Slice 83, stats: {'fp': 47, 'tp': 2, 'fn': 0}\n",
      "04-05 17:55:12  INFO     ++ Slice 84, stats: {'fp': 40, 'tp': 1, 'fn': 0}\n",
      "04-05 17:55:12  INFO     ++ Slice 85, stats: {'fp': 32, 'tp': 1, 'fn': 0}\n",
      "04-05 17:55:12  INFO     ++ Slice 86, stats: {'fp': 41, 'tp': 1, 'fn': 0}\n",
      "04-05 17:55:12  INFO     ++ Slice 87, stats: {'fp': 45, 'tp': 1, 'fn': 0}\n",
      "04-05 17:55:12  INFO     ++ Slice 88, stats: {'fp': 33, 'tp': 1, 'fn': 0}\n",
      "04-05 17:55:12  INFO     ++ Slice 89, stats: {'fp': 40, 'tp': 2, 'fn': 0}\n",
      "04-05 17:55:12  INFO     ++ Slice 90, stats: {'fp': 45, 'tp': 1, 'fn': 0}\n",
      "04-05 17:55:13  INFO     ++ Slice 91, stats: {'fp': 35, 'tp': 1, 'fn': 0}\n",
      "04-05 17:55:13  INFO     ++ Slice 92, stats: {'fp': 43, 'tp': 1, 'fn': 0}\n",
      "04-05 17:55:13  INFO     ++ Slice 93, stats: {'fp': 33, 'tp': 1, 'fn': 0}\n",
      "04-05 17:55:13  INFO     ++ Slice 94, stats: {'fp': 31, 'tp': 1, 'fn': 0}\n",
      "04-05 17:55:13  INFO     Loading 6/583\n"
     ]
    },
    {
     "name": "stdout",
     "output_type": "stream",
     "text": [
      "(18, 20, 20)\n"
     ]
    },
    {
     "name": "stderr",
     "output_type": "stream",
     "text": [
      "04-05 17:55:16  INFO     ++ Slice 113, stats: {'fp': 28, 'tp': 1, 'fn': 0}\n",
      "04-05 17:55:16  INFO     ++ Slice 114, stats: {'fp': 30, 'tp': 1, 'fn': 0}\n",
      "04-05 17:55:16  INFO     ++ Slice 115, stats: {'fp': 30, 'tp': 1, 'fn': 0}\n",
      "04-05 17:55:17  INFO     ++ Slice 116, stats: {'fp': 31, 'tp': 1, 'fn': 0}\n",
      "04-05 17:55:17  INFO     Loading 7/583\n"
     ]
    },
    {
     "name": "stdout",
     "output_type": "stream",
     "text": [
      "(15, 20, 20)\n"
     ]
    },
    {
     "name": "stderr",
     "output_type": "stream",
     "text": [
      "04-05 17:55:19  INFO     ++ Slice 40, stats: {'fp': 43, 'tp': 1, 'fn': 0}\n",
      "04-05 17:55:20  INFO     ++ Slice 41, stats: {'fp': 55, 'tp': 1, 'fn': 0}\n",
      "04-05 17:55:20  INFO     ++ Slice 47, stats: {'fp': 62, 'tp': 1, 'fn': 0}\n",
      "04-05 17:55:20  INFO     ++ Slice 48, stats: {'fp': 73, 'tp': 1, 'fn': 0}\n",
      "04-05 17:55:20  INFO     ++ Slice 49, stats: {'fp': 70, 'tp': 1, 'fn': 0}\n",
      "04-05 17:55:20  INFO     ++ Slice 54, stats: {'fp': 85, 'tp': 1, 'fn': 0}\n",
      "04-05 17:55:21  INFO     ++ Slice 55, stats: {'fp': 83, 'tp': 2, 'fn': 0}\n",
      "04-05 17:55:21  INFO     ++ Slice 56, stats: {'fp': 85, 'tp': 1, 'fn': 1}\n",
      "04-05 17:55:21  INFO     ++ Slice 57, stats: {'fp': 84, 'tp': 2, 'fn': 0}\n",
      "04-05 17:55:21  INFO     ++ Slice 58, stats: {'fp': 61, 'tp': 2, 'fn': 0}\n",
      "04-05 17:55:21  INFO     ++ Slice 59, stats: {'fp': 67, 'tp': 2, 'fn': 0}\n",
      "04-05 17:55:21  INFO     ++ Slice 60, stats: {'fp': 74, 'tp': 1, 'fn': 0}\n",
      "04-05 17:55:22  INFO     ++ Slice 62, stats: {'fp': 71, 'tp': 1, 'fn': 0}\n",
      "04-05 17:55:22  INFO     ++ Slice 63, stats: {'fp': 76, 'tp': 1, 'fn': 0}\n",
      "04-05 17:55:22  INFO     ++ Slice 64, stats: {'fp': 54, 'tp': 1, 'fn': 0}\n",
      "04-05 17:55:22  INFO     Loading 8/583\n"
     ]
    },
    {
     "name": "stdout",
     "output_type": "stream",
     "text": [
      "(13, 20, 20)\n"
     ]
    },
    {
     "name": "stderr",
     "output_type": "stream",
     "text": [
      "04-05 17:55:24  INFO     ++ Slice 110, stats: {'fp': 39, 'tp': 1, 'fn': 0}\n",
      "04-05 17:55:24  INFO     ++ Slice 111, stats: {'fp': 36, 'tp': 1, 'fn': 0}\n",
      "04-05 17:55:24  INFO     ++ Slice 112, stats: {'fp': 33, 'tp': 1, 'fn': 0}\n",
      "04-05 17:55:24  INFO     ++ Slice 113, stats: {'fp': 34, 'tp': 1, 'fn': 0}\n",
      "04-05 17:55:24  INFO     ++ Slice 114, stats: {'fp': 38, 'tp': 1, 'fn': 0}\n",
      "04-05 17:55:24  INFO     ++ Slice 115, stats: {'fp': 35, 'tp': 1, 'fn': 0}\n",
      "04-05 17:55:24  INFO     ++ Slice 116, stats: {'fp': 36, 'tp': 1, 'fn': 0}\n",
      "04-05 17:55:24  INFO     ++ Slice 117, stats: {'fp': 32, 'tp': 1, 'fn': 0}\n",
      "04-05 17:55:24  INFO     ++ Slice 118, stats: {'fp': 30, 'tp': 1, 'fn': 0}\n",
      "04-05 17:55:24  INFO     Loading 9/583\n"
     ]
    },
    {
     "name": "stdout",
     "output_type": "stream",
     "text": [
      "(18, 20, 20)\n"
     ]
    },
    {
     "name": "stderr",
     "output_type": "stream",
     "text": [
      "04-05 17:55:27  INFO     ++ Slice 104, stats: {'fp': 31, 'tp': 1, 'fn': 0}\n",
      "04-05 17:55:28  INFO     ++ Slice 105, stats: {'fp': 22, 'tp': 1, 'fn': 0}\n",
      "04-05 17:55:28  INFO     ++ Slice 106, stats: {'fp': 17, 'tp': 1, 'fn': 0}\n",
      "04-05 17:55:28  INFO     ++ Slice 107, stats: {'fp': 22, 'tp': 1, 'fn': 0}\n",
      "04-05 17:55:28  INFO     ++ Slice 108, stats: {'fp': 20, 'tp': 0, 'fn': 1}\n",
      "04-05 17:55:28  INFO     Loading 10/583\n"
     ]
    },
    {
     "name": "stdout",
     "output_type": "stream",
     "text": [
      "(13, 20, 20)\n"
     ]
    },
    {
     "name": "stderr",
     "output_type": "stream",
     "text": [
      "04-05 17:55:31  INFO     ++ Slice 115, stats: {'fp': 42, 'tp': 1, 'fn': 0}\n",
      "04-05 17:55:31  INFO     ++ Slice 116, stats: {'fp': 44, 'tp': 1, 'fn': 0}\n",
      "04-05 17:55:31  INFO     ++ Slice 117, stats: {'fp': 36, 'tp': 1, 'fn': 0}\n",
      "04-05 17:55:31  INFO     ++ Slice 118, stats: {'fp': 31, 'tp': 1, 'fn': 0}\n",
      "04-05 17:55:31  INFO     ++ Slice 119, stats: {'fp': 32, 'tp': 1, 'fn': 0}\n",
      "04-05 17:55:32  INFO     ++ Slice 120, stats: {'fp': 39, 'tp': 1, 'fn': 0}\n",
      "04-05 17:55:32  INFO     ++ Slice 121, stats: {'fp': 39, 'tp': 1, 'fn': 0}\n",
      "04-05 17:55:32  INFO     ++ Slice 122, stats: {'fp': 32, 'tp': 1, 'fn': 0}\n",
      "04-05 17:55:32  INFO     Loading 11/583\n"
     ]
    },
    {
     "name": "stdout",
     "output_type": "stream",
     "text": [
      "(15, 20, 20)\n"
     ]
    },
    {
     "name": "stderr",
     "output_type": "stream",
     "text": [
      "04-05 17:55:35  INFO     ++ Slice 93, stats: {'fp': 23, 'tp': 1, 'fn': 0}\n",
      "04-05 17:55:36  INFO     ++ Slice 114, stats: {'fp': 36, 'tp': 0, 'fn': 1}\n",
      "04-05 17:55:36  INFO     ++ Slice 115, stats: {'fp': 35, 'tp': 1, 'fn': 0}\n",
      "04-05 17:55:36  INFO     ++ Slice 116, stats: {'fp': 31, 'tp': 1, 'fn': 0}\n",
      "04-05 17:55:36  INFO     ++ Slice 117, stats: {'fp': 28, 'tp': 1, 'fn': 0}\n",
      "04-05 17:55:36  INFO     ++ Slice 118, stats: {'fp': 29, 'tp': 1, 'fn': 0}\n",
      "04-05 17:55:36  INFO     ++ Slice 119, stats: {'fp': 30, 'tp': 1, 'fn': 0}\n",
      "04-05 17:55:36  INFO     ++ Slice 120, stats: {'fp': 29, 'tp': 1, 'fn': 0}\n",
      "04-05 17:55:36  INFO     ++ Slice 121, stats: {'fp': 30, 'tp': 1, 'fn': 0}\n",
      "04-05 17:55:36  INFO     ++ Slice 126, stats: {'fp': 25, 'tp': 1, 'fn': 0}\n",
      "04-05 17:55:36  INFO     ++ Slice 127, stats: {'fp': 28, 'tp': 1, 'fn': 0}\n",
      "04-05 17:55:37  INFO     ++ Slice 128, stats: {'fp': 31, 'tp': 1, 'fn': 0}\n",
      "04-05 17:55:37  INFO     Loading 12/583\n"
     ]
    },
    {
     "name": "stdout",
     "output_type": "stream",
     "text": [
      "(16, 20, 20)\n"
     ]
    },
    {
     "name": "stderr",
     "output_type": "stream",
     "text": [
      "04-05 17:55:40  INFO     ++ Slice 104, stats: {'fp': 31, 'tp': 1, 'fn': 0}\n",
      "04-05 17:55:40  INFO     ++ Slice 105, stats: {'fp': 36, 'tp': 1, 'fn': 0}\n",
      "04-05 17:55:40  INFO     ++ Slice 106, stats: {'fp': 29, 'tp': 1, 'fn': 0}\n",
      "04-05 17:55:40  INFO     ++ Slice 111, stats: {'fp': 29, 'tp': 1, 'fn': 0}\n",
      "04-05 17:55:40  INFO     ++ Slice 112, stats: {'fp': 29, 'tp': 1, 'fn': 0}\n",
      "04-05 17:55:40  INFO     ++ Slice 113, stats: {'fp': 26, 'tp': 1, 'fn': 0}\n",
      "04-05 17:55:40  INFO     ++ Slice 114, stats: {'fp': 32, 'tp': 1, 'fn': 0}\n",
      "04-05 17:55:40  INFO     ++ Slice 115, stats: {'fp': 27, 'tp': 1, 'fn': 0}\n",
      "04-05 17:55:41  INFO     ++ Slice 116, stats: {'fp': 28, 'tp': 1, 'fn': 0}\n",
      "04-05 17:55:41  INFO     Loading 13/583\n"
     ]
    },
    {
     "name": "stdout",
     "output_type": "stream",
     "text": [
      "(15, 20, 20)\n"
     ]
    },
    {
     "name": "stderr",
     "output_type": "stream",
     "text": [
      "04-05 17:55:42  INFO     ++ Slice 64, stats: {'fp': 57, 'tp': 1, 'fn': 0}\n",
      "04-05 17:55:42  INFO     ++ Slice 65, stats: {'fp': 53, 'tp': 1, 'fn': 0}\n",
      "04-05 17:55:42  INFO     ++ Slice 84, stats: {'fp': 28, 'tp': 1, 'fn': 0}\n",
      "04-05 17:55:42  INFO     ++ Slice 85, stats: {'fp': 30, 'tp': 1, 'fn': 0}\n",
      "04-05 17:55:42  INFO     ++ Slice 86, stats: {'fp': 36, 'tp': 1, 'fn': 0}\n",
      "04-05 17:55:42  INFO     Loading 14/583\n"
     ]
    },
    {
     "name": "stdout",
     "output_type": "stream",
     "text": [
      "(17, 20, 20)\n"
     ]
    },
    {
     "name": "stderr",
     "output_type": "stream",
     "text": [
      "04-05 17:55:44  INFO     ++ Slice 86, stats: {'fp': 27, 'tp': 1, 'fn': 0}\n",
      "04-05 17:55:44  INFO     ++ Slice 87, stats: {'fp': 35, 'tp': 1, 'fn': 0}\n",
      "04-05 17:55:44  INFO     ++ Slice 88, stats: {'fp': 34, 'tp': 1, 'fn': 0}\n",
      "04-05 17:55:44  INFO     ++ Slice 89, stats: {'fp': 37, 'tp': 1, 'fn': 0}\n",
      "04-05 17:55:44  INFO     ++ Slice 90, stats: {'fp': 31, 'tp': 1, 'fn': 0}\n",
      "04-05 17:55:44  INFO     ++ Slice 91, stats: {'fp': 29, 'tp': 0, 'fn': 1}\n",
      "04-05 17:55:44  INFO     ++ Slice 92, stats: {'fp': 19, 'tp': 0, 'fn': 1}\n",
      "04-05 17:55:44  INFO     ++ Slice 93, stats: {'fp': 25, 'tp': 0, 'fn': 1}\n",
      "04-05 17:55:45  INFO     ++ Slice 94, stats: {'fp': 28, 'tp': 1, 'fn': 0}\n",
      "04-05 17:55:45  INFO     ++ Slice 95, stats: {'fp': 34, 'tp': 1, 'fn': 0}\n",
      "04-05 17:55:45  INFO     ++ Slice 106, stats: {'fp': 26, 'tp': 1, 'fn': 0}\n",
      "04-05 17:55:45  INFO     ++ Slice 107, stats: {'fp': 17, 'tp': 1, 'fn': 0}\n",
      "04-05 17:55:45  INFO     ++ Slice 108, stats: {'fp': 18, 'tp': 1, 'fn': 0}\n",
      "04-05 17:55:45  INFO     ++ Slice 109, stats: {'fp': 21, 'tp': 1, 'fn': 0}\n",
      "04-05 17:55:45  INFO     ++ Slice 110, stats: {'fp': 27, 'tp': 1, 'fn': 0}\n",
      "04-05 17:55:45  INFO     ++ Slice 111, stats: {'fp': 28, 'tp': 1, 'fn': 0}\n",
      "04-05 17:55:45  INFO     ++ Slice 116, stats: {'fp': 23, 'tp': 0, 'fn': 1}\n",
      "04-05 17:55:45  INFO     ++ Slice 117, stats: {'fp': 28, 'tp': 0, 'fn': 1}\n",
      "04-05 17:55:46  INFO     ++ Slice 118, stats: {'fp': 29, 'tp': 0, 'fn': 1}\n",
      "04-05 17:55:46  INFO     ++ Slice 119, stats: {'fp': 31, 'tp': 0, 'fn': 1}\n",
      "04-05 17:55:46  INFO     Loading 15/583\n"
     ]
    },
    {
     "name": "stdout",
     "output_type": "stream",
     "text": [
      "(16, 20, 20)\n"
     ]
    },
    {
     "name": "stderr",
     "output_type": "stream",
     "text": [
      "04-05 17:55:47  INFO     ++ Slice 75, stats: {'fp': 38, 'tp': 1, 'fn': 0}\n",
      "04-05 17:55:47  INFO     ++ Slice 76, stats: {'fp': 39, 'tp': 1, 'fn': 0}\n",
      "04-05 17:55:48  INFO     ++ Slice 77, stats: {'fp': 39, 'tp': 1, 'fn': 0}\n",
      "04-05 17:55:48  INFO     ++ Slice 78, stats: {'fp': 37, 'tp': 1, 'fn': 0}\n",
      "04-05 17:55:48  INFO     Loading 16/583\n"
     ]
    },
    {
     "name": "stdout",
     "output_type": "stream",
     "text": [
      "(17, 20, 20)\n"
     ]
    },
    {
     "name": "stderr",
     "output_type": "stream",
     "text": [
      "04-05 17:55:49  INFO     ++ Slice 80, stats: {'fp': 46, 'tp': 1, 'fn': 0}\n",
      "04-05 17:55:49  INFO     ++ Slice 81, stats: {'fp': 49, 'tp': 1, 'fn': 0}\n",
      "04-05 17:55:49  INFO     Loading 17/583\n"
     ]
    },
    {
     "name": "stdout",
     "output_type": "stream",
     "text": [
      "(17, 20, 20)\n"
     ]
    },
    {
     "name": "stderr",
     "output_type": "stream",
     "text": [
      "04-05 17:55:51  INFO     ++ Slice 31, stats: {'fp': 1, 'tp': 1, 'fn': 0}\n",
      "04-05 17:55:51  INFO     ++ Slice 80, stats: {'fp': 53, 'tp': 1, 'fn': 0}\n",
      "04-05 17:55:51  INFO     ++ Slice 81, stats: {'fp': 49, 'tp': 2, 'fn': 0}\n",
      "04-05 17:55:51  INFO     ++ Slice 82, stats: {'fp': 52, 'tp': 2, 'fn': 0}\n",
      "04-05 17:55:51  INFO     ++ Slice 83, stats: {'fp': 58, 'tp': 2, 'fn': 0}\n",
      "04-05 17:55:51  INFO     ++ Slice 84, stats: {'fp': 45, 'tp': 1, 'fn': 0}\n",
      "04-05 17:55:52  INFO     ++ Slice 85, stats: {'fp': 50, 'tp': 1, 'fn': 0}\n",
      "04-05 17:55:52  INFO     ++ Slice 86, stats: {'fp': 44, 'tp': 1, 'fn': 0}\n",
      "04-05 17:55:52  INFO     Loading 18/583\n"
     ]
    },
    {
     "name": "stdout",
     "output_type": "stream",
     "text": [
      "(16, 20, 20)\n"
     ]
    },
    {
     "name": "stderr",
     "output_type": "stream",
     "text": [
      "04-05 17:55:55  INFO     ++ Slice 52, stats: {'fp': 55, 'tp': 1, 'fn': 0}\n",
      "04-05 17:55:55  INFO     Loading 19/583\n"
     ]
    },
    {
     "name": "stdout",
     "output_type": "stream",
     "text": [
      "(14, 20, 20)\n"
     ]
    },
    {
     "name": "stderr",
     "output_type": "stream",
     "text": [
      "04-05 17:55:57  INFO     ++ Slice 40, stats: {'fp': 52, 'tp': 0, 'fn': 1}\n",
      "04-05 17:55:57  INFO     ++ Slice 41, stats: {'fp': 51, 'tp': 1, 'fn': 0}\n",
      "04-05 17:55:57  INFO     ++ Slice 42, stats: {'fp': 47, 'tp': 0, 'fn': 1}\n",
      "04-05 17:55:57  INFO     ++ Slice 51, stats: {'fp': 49, 'tp': 0, 'fn': 1}\n",
      "04-05 17:55:57  INFO     ++ Slice 52, stats: {'fp': 54, 'tp': 1, 'fn': 0}\n",
      "04-05 17:55:57  INFO     Loading 20/583\n"
     ]
    },
    {
     "name": "stdout",
     "output_type": "stream",
     "text": [
      "(15, 20, 20)\n"
     ]
    },
    {
     "name": "stderr",
     "output_type": "stream",
     "text": [
      "04-05 17:56:01  INFO     ++ Slice 84, stats: {'fp': 48, 'tp': 1, 'fn': 0}\n",
      "04-05 17:56:01  INFO     Loading 21/583\n"
     ]
    },
    {
     "name": "stdout",
     "output_type": "stream",
     "text": [
      "(15, 20, 20)\n"
     ]
    },
    {
     "name": "stderr",
     "output_type": "stream",
     "text": [
      "04-05 17:56:04  INFO     ++ Slice 74, stats: {'fp': 65, 'tp': 1, 'fn': 0}\n",
      "04-05 17:56:04  INFO     ++ Slice 75, stats: {'fp': 67, 'tp': 1, 'fn': 0}\n",
      "04-05 17:56:04  INFO     ++ Slice 80, stats: {'fp': 50, 'tp': 1, 'fn': 0}\n",
      "04-05 17:56:04  INFO     ++ Slice 81, stats: {'fp': 55, 'tp': 1, 'fn': 0}\n",
      "04-05 17:56:05  INFO     ++ Slice 88, stats: {'fp': 46, 'tp': 1, 'fn': 1}\n",
      "04-05 17:56:05  INFO     ++ Slice 89, stats: {'fp': 48, 'tp': 2, 'fn': 0}\n",
      "04-05 17:56:05  INFO     ++ Slice 90, stats: {'fp': 51, 'tp': 1, 'fn': 0}\n",
      "04-05 17:56:05  INFO     ++ Slice 91, stats: {'fp': 42, 'tp': 1, 'fn': 0}\n",
      "04-05 17:56:05  INFO     Loading 22/583\n"
     ]
    },
    {
     "name": "stdout",
     "output_type": "stream",
     "text": [
      "(15, 20, 20)\n"
     ]
    },
    {
     "name": "stderr",
     "output_type": "stream",
     "text": [
      "04-05 17:56:09  INFO     ++ Slice 89, stats: {'fp': 49, 'tp': 1, 'fn': 0}\n",
      "04-05 17:56:09  INFO     ++ Slice 90, stats: {'fp': 62, 'tp': 1, 'fn': 1}\n",
      "04-05 17:56:10  INFO     ++ Slice 91, stats: {'fp': 52, 'tp': 1, 'fn': 0}\n",
      "04-05 17:56:10  INFO     ++ Slice 106, stats: {'fp': 44, 'tp': 1, 'fn': 0}\n",
      "04-05 17:56:10  INFO     ++ Slice 107, stats: {'fp': 36, 'tp': 1, 'fn': 0}\n",
      "04-05 17:56:10  INFO     ++ Slice 146, stats: {'fp': 42, 'tp': 1, 'fn': 0}\n",
      "04-05 17:56:10  INFO     ++ Slice 147, stats: {'fp': 40, 'tp': 1, 'fn': 0}\n",
      "04-05 17:56:10  INFO     Loading 23/583\n"
     ]
    },
    {
     "name": "stdout",
     "output_type": "stream",
     "text": [
      "(18, 20, 20)\n"
     ]
    },
    {
     "name": "stderr",
     "output_type": "stream",
     "text": [
      "04-05 17:56:12  INFO     ++ Slice 95, stats: {'fp': 77, 'tp': 0, 'fn': 1}\n",
      "04-05 17:56:12  INFO     ++ Slice 96, stats: {'fp': 85, 'tp': 0, 'fn': 1}\n",
      "04-05 17:56:12  INFO     ++ Slice 97, stats: {'fp': 78, 'tp': 0, 'fn': 1}\n",
      "04-05 17:56:12  INFO     ++ Slice 98, stats: {'fp': 90, 'tp': 1, 'fn': 0}\n",
      "04-05 17:56:13  INFO     ++ Slice 99, stats: {'fp': 84, 'tp': 0, 'fn': 1}\n",
      "04-05 17:56:13  INFO     ++ Slice 100, stats: {'fp': 91, 'tp': 1, 'fn': 0}\n",
      "04-05 17:56:13  INFO     ++ Slice 101, stats: {'fp': 82, 'tp': 1, 'fn': 0}\n",
      "04-05 17:56:13  INFO     ++ Slice 102, stats: {'fp': 79, 'tp': 1, 'fn': 0}\n",
      "04-05 17:56:14  INFO     ++ Slice 103, stats: {'fp': 82, 'tp': 1, 'fn': 0}\n",
      "04-05 17:56:14  INFO     ++ Slice 146, stats: {'fp': 70, 'tp': 1, 'fn': 0}\n",
      "04-05 17:56:14  INFO     ++ Slice 147, stats: {'fp': 68, 'tp': 1, 'fn': 0}\n",
      "04-05 17:56:14  INFO     ++ Slice 148, stats: {'fp': 60, 'tp': 1, 'fn': 0}\n",
      "04-05 17:56:14  INFO     ++ Slice 149, stats: {'fp': 54, 'tp': 1, 'fn': 0}\n",
      "04-05 17:56:15  INFO     ++ Slice 150, stats: {'fp': 62, 'tp': 1, 'fn': 0}\n",
      "04-05 17:56:15  INFO     ++ Slice 151, stats: {'fp': 59, 'tp': 1, 'fn': 0}\n",
      "04-05 17:56:15  INFO     ++ Slice 152, stats: {'fp': 52, 'tp': 1, 'fn': 0}\n",
      "04-05 17:56:15  INFO     Loading 24/583\n"
     ]
    },
    {
     "name": "stdout",
     "output_type": "stream",
     "text": [
      "(18, 20, 20)\n"
     ]
    },
    {
     "name": "stderr",
     "output_type": "stream",
     "text": [
      "04-05 17:56:19  INFO     ++ Slice 45, stats: {'fp': 43, 'tp': 1, 'fn': 0}\n",
      "04-05 17:56:19  INFO     ++ Slice 46, stats: {'fp': 42, 'tp': 1, 'fn': 0}\n",
      "04-05 17:56:19  INFO     ++ Slice 47, stats: {'fp': 44, 'tp': 1, 'fn': 0}\n",
      "04-05 17:56:19  INFO     Loading 25/583\n"
     ]
    },
    {
     "name": "stdout",
     "output_type": "stream",
     "text": [
      "(16, 20, 20)\n"
     ]
    },
    {
     "name": "stderr",
     "output_type": "stream",
     "text": [
      "04-05 17:56:23  INFO     ++ Slice 122, stats: {'fp': 47, 'tp': 1, 'fn': 0}\n",
      "04-05 17:56:23  INFO     ++ Slice 123, stats: {'fp': 54, 'tp': 1, 'fn': 0}\n",
      "04-05 17:56:23  INFO     ++ Slice 124, stats: {'fp': 46, 'tp': 1, 'fn': 0}\n",
      "04-05 17:56:23  INFO     ++ Slice 125, stats: {'fp': 49, 'tp': 1, 'fn': 0}\n",
      "04-05 17:56:23  INFO     ++ Slice 133, stats: {'fp': 36, 'tp': 1, 'fn': 0}\n",
      "04-05 17:56:24  INFO     ++ Slice 134, stats: {'fp': 35, 'tp': 1, 'fn': 0}\n",
      "04-05 17:56:24  INFO     ++ Slice 135, stats: {'fp': 38, 'tp': 1, 'fn': 0}\n",
      "04-05 17:56:24  INFO     ++ Slice 136, stats: {'fp': 35, 'tp': 1, 'fn': 0}\n",
      "04-05 17:56:24  INFO     ++ Slice 137, stats: {'fp': 30, 'tp': 1, 'fn': 0}\n",
      "04-05 17:56:24  INFO     ++ Slice 138, stats: {'fp': 29, 'tp': 2, 'fn': 0}\n",
      "04-05 17:56:24  INFO     ++ Slice 139, stats: {'fp': 26, 'tp': 2, 'fn': 0}\n",
      "04-05 17:56:24  INFO     ++ Slice 140, stats: {'fp': 26, 'tp': 2, 'fn': 0}\n",
      "04-05 17:56:24  INFO     ++ Slice 141, stats: {'fp': 29, 'tp': 2, 'fn': 0}\n",
      "04-05 17:56:24  INFO     ++ Slice 142, stats: {'fp': 28, 'tp': 1, 'fn': 0}\n",
      "04-05 17:56:24  INFO     ++ Slice 143, stats: {'fp': 21, 'tp': 1, 'fn': 0}\n",
      "04-05 17:56:25  INFO     Loading 26/583\n"
     ]
    },
    {
     "name": "stdout",
     "output_type": "stream",
     "text": [
      "(17, 20, 20)\n"
     ]
    },
    {
     "name": "stderr",
     "output_type": "stream",
     "text": [
      "04-05 17:56:26  INFO     ++ Slice 52, stats: {'fp': 53, 'tp': 1, 'fn': 0}\n",
      "04-05 17:56:26  INFO     ++ Slice 53, stats: {'fp': 54, 'tp': 1, 'fn': 0}\n",
      "04-05 17:56:26  INFO     ++ Slice 54, stats: {'fp': 64, 'tp': 1, 'fn': 0}\n",
      "04-05 17:56:26  INFO     ++ Slice 55, stats: {'fp': 59, 'tp': 1, 'fn': 0}\n",
      "04-05 17:56:26  INFO     ++ Slice 56, stats: {'fp': 61, 'tp': 1, 'fn': 0}\n",
      "04-05 17:56:27  INFO     ++ Slice 57, stats: {'fp': 62, 'tp': 1, 'fn': 0}\n",
      "04-05 17:56:27  INFO     ++ Slice 73, stats: {'fp': 38, 'tp': 1, 'fn': 0}\n",
      "04-05 17:56:27  INFO     ++ Slice 74, stats: {'fp': 45, 'tp': 0, 'fn': 2}\n",
      "04-05 17:56:27  INFO     ++ Slice 75, stats: {'fp': 47, 'tp': 1, 'fn': 0}\n",
      "04-05 17:56:27  INFO     ++ Slice 76, stats: {'fp': 34, 'tp': 1, 'fn': 0}\n",
      "04-05 17:56:27  INFO     ++ Slice 87, stats: {'fp': 43, 'tp': 1, 'fn': 0}\n",
      "04-05 17:56:27  INFO     ++ Slice 88, stats: {'fp': 43, 'tp': 1, 'fn': 0}\n",
      "04-05 17:56:27  INFO     ++ Slice 89, stats: {'fp': 41, 'tp': 1, 'fn': 0}\n",
      "04-05 17:56:27  INFO     ++ Slice 90, stats: {'fp': 44, 'tp': 1, 'fn': 0}\n",
      "04-05 17:56:28  INFO     ++ Slice 91, stats: {'fp': 50, 'tp': 1, 'fn': 0}\n",
      "04-05 17:56:28  INFO     ++ Slice 92, stats: {'fp': 53, 'tp': 1, 'fn': 0}\n",
      "04-05 17:56:28  INFO     ++ Slice 105, stats: {'fp': 42, 'tp': 0, 'fn': 1}\n",
      "04-05 17:56:28  INFO     ++ Slice 106, stats: {'fp': 40, 'tp': 1, 'fn': 0}\n",
      "04-05 17:56:28  INFO     ++ Slice 107, stats: {'fp': 51, 'tp': 0, 'fn': 1}\n",
      "04-05 17:56:28  INFO     Loading 27/583\n"
     ]
    },
    {
     "name": "stdout",
     "output_type": "stream",
     "text": [
      "(13, 20, 20)\n"
     ]
    },
    {
     "name": "stderr",
     "output_type": "stream",
     "text": [
      "04-05 17:56:29  INFO     ++ Slice 42, stats: {'fp': 10, 'tp': 1, 'fn': 0}\n",
      "04-05 17:56:29  INFO     ++ Slice 43, stats: {'fp': 14, 'tp': 1, 'fn': 0}\n",
      "04-05 17:56:29  INFO     ++ Slice 44, stats: {'fp': 13, 'tp': 1, 'fn': 0}\n",
      "04-05 17:56:30  INFO     ++ Slice 81, stats: {'fp': 32, 'tp': 1, 'fn': 0}\n",
      "04-05 17:56:30  INFO     ++ Slice 94, stats: {'fp': 32, 'tp': 1, 'fn': 0}\n",
      "04-05 17:56:30  INFO     ++ Slice 95, stats: {'fp': 37, 'tp': 1, 'fn': 0}\n",
      "04-05 17:56:30  INFO     ++ Slice 96, stats: {'fp': 18, 'tp': 0, 'fn': 1}\n",
      "04-05 17:56:30  INFO     ++ Slice 116, stats: {'fp': 31, 'tp': 1, 'fn': 0}\n",
      "04-05 17:56:30  INFO     ++ Slice 140, stats: {'fp': 20, 'tp': 1, 'fn': 0}\n",
      "04-05 17:56:30  INFO     ++ Slice 141, stats: {'fp': 25, 'tp': 1, 'fn': 0}\n",
      "04-05 17:56:30  INFO     ++ Slice 142, stats: {'fp': 27, 'tp': 1, 'fn': 0}\n",
      "04-05 17:56:30  INFO     ++ Slice 143, stats: {'fp': 20, 'tp': 1, 'fn': 0}\n",
      "04-05 17:56:30  INFO     Loading 28/583\n"
     ]
    },
    {
     "name": "stdout",
     "output_type": "stream",
     "text": [
      "(16, 20, 20)\n"
     ]
    },
    {
     "name": "stderr",
     "output_type": "stream",
     "text": [
      "04-05 17:56:32  INFO     ++ Slice 52, stats: {'fp': 28, 'tp': 1, 'fn': 0}\n",
      "04-05 17:56:32  INFO     ++ Slice 53, stats: {'fp': 31, 'tp': 1, 'fn': 0}\n",
      "04-05 17:56:32  INFO     ++ Slice 54, stats: {'fp': 38, 'tp': 0, 'fn': 1}\n",
      "04-05 17:56:32  INFO     ++ Slice 60, stats: {'fp': 53, 'tp': 1, 'fn': 0}\n",
      "04-05 17:56:32  INFO     ++ Slice 61, stats: {'fp': 52, 'tp': 1, 'fn': 0}\n",
      "04-05 17:56:32  INFO     ++ Slice 62, stats: {'fp': 47, 'tp': 1, 'fn': 0}\n",
      "04-05 17:56:32  INFO     ++ Slice 63, stats: {'fp': 54, 'tp': 1, 'fn': 0}\n",
      "04-05 17:56:33  INFO     ++ Slice 64, stats: {'fp': 56, 'tp': 1, 'fn': 0}\n",
      "04-05 17:56:33  INFO     ++ Slice 65, stats: {'fp': 56, 'tp': 1, 'fn': 0}\n",
      "04-05 17:56:33  INFO     ++ Slice 66, stats: {'fp': 55, 'tp': 1, 'fn': 0}\n",
      "04-05 17:56:33  INFO     ++ Slice 67, stats: {'fp': 63, 'tp': 1, 'fn': 0}\n",
      "04-05 17:56:33  INFO     ++ Slice 68, stats: {'fp': 62, 'tp': 1, 'fn': 0}\n",
      "04-05 17:56:33  INFO     ++ Slice 75, stats: {'fp': 66, 'tp': 1, 'fn': 0}\n",
      "04-05 17:56:34  INFO     ++ Slice 76, stats: {'fp': 81, 'tp': 1, 'fn': 0}\n",
      "04-05 17:56:34  INFO     ++ Slice 77, stats: {'fp': 66, 'tp': 1, 'fn': 0}\n",
      "04-05 17:56:34  INFO     ++ Slice 78, stats: {'fp': 72, 'tp': 1, 'fn': 0}\n",
      "04-05 17:56:34  INFO     ++ Slice 79, stats: {'fp': 82, 'tp': 1, 'fn': 0}\n",
      "04-05 17:56:34  INFO     ++ Slice 80, stats: {'fp': 54, 'tp': 1, 'fn': 0}\n",
      "04-05 17:56:34  INFO     ++ Slice 82, stats: {'fp': 49, 'tp': 1, 'fn': 0}\n",
      "04-05 17:56:35  INFO     ++ Slice 83, stats: {'fp': 45, 'tp': 1, 'fn': 0}\n",
      "04-05 17:56:35  INFO     ++ Slice 88, stats: {'fp': 45, 'tp': 1, 'fn': 0}\n",
      "04-05 17:56:35  INFO     ++ Slice 89, stats: {'fp': 45, 'tp': 1, 'fn': 0}\n",
      "04-05 17:56:35  INFO     ++ Slice 90, stats: {'fp': 44, 'tp': 1, 'fn': 0}\n",
      "04-05 17:56:35  INFO     ++ Slice 104, stats: {'fp': 48, 'tp': 1, 'fn': 0}\n",
      "04-05 17:56:35  INFO     ++ Slice 105, stats: {'fp': 55, 'tp': 1, 'fn': 0}\n",
      "04-05 17:56:35  INFO     ++ Slice 106, stats: {'fp': 54, 'tp': 1, 'fn': 0}\n",
      "04-05 17:56:36  INFO     ++ Slice 107, stats: {'fp': 55, 'tp': 1, 'fn': 0}\n",
      "04-05 17:56:36  INFO     ++ Slice 135, stats: {'fp': 15, 'tp': 1, 'fn': 0}\n",
      "04-05 17:56:36  INFO     ++ Slice 136, stats: {'fp': 10, 'tp': 1, 'fn': 0}\n",
      "04-05 17:56:36  INFO     ++ Slice 137, stats: {'fp': 10, 'tp': 1, 'fn': 0}\n",
      "04-05 17:56:36  INFO     ++ Slice 138, stats: {'fp': 9, 'tp': 1, 'fn': 0}\n"
     ]
    },
    {
     "name": "stdout",
     "output_type": "stream",
     "text": [
      "(16, 20, 20)\n"
     ]
    },
    {
     "name": "stderr",
     "output_type": "stream",
     "text": [
      "04-05 17:56:36  INFO     Loading 29/583\n",
      "04-05 17:56:40  INFO     ++ Slice 60, stats: {'fp': 59, 'tp': 1, 'fn': 0}\n",
      "04-05 17:56:40  INFO     ++ Slice 61, stats: {'fp': 58, 'tp': 1, 'fn': 0}\n",
      "04-05 17:56:40  INFO     ++ Slice 62, stats: {'fp': 50, 'tp': 1, 'fn': 0}\n",
      "04-05 17:56:40  INFO     Loading 30/583\n"
     ]
    },
    {
     "name": "stdout",
     "output_type": "stream",
     "text": [
      "(15, 20, 20)\n"
     ]
    },
    {
     "name": "stderr",
     "output_type": "stream",
     "text": [
      "04-05 17:56:41  INFO     ++ Slice 63, stats: {'fp': 35, 'tp': 0, 'fn': 1}\n",
      "04-05 17:56:41  INFO     ++ Slice 64, stats: {'fp': 34, 'tp': 1, 'fn': 0}\n",
      "04-05 17:56:41  INFO     ++ Slice 65, stats: {'fp': 31, 'tp': 0, 'fn': 1}\n",
      "04-05 17:56:42  INFO     ++ Slice 66, stats: {'fp': 43, 'tp': 1, 'fn': 0}\n",
      "04-05 17:56:42  INFO     ++ Slice 67, stats: {'fp': 32, 'tp': 0, 'fn': 1}\n",
      "04-05 17:56:42  INFO     Loading 31/583\n"
     ]
    },
    {
     "name": "stdout",
     "output_type": "stream",
     "text": [
      "(15, 20, 20)\n"
     ]
    },
    {
     "name": "stderr",
     "output_type": "stream",
     "text": [
      "04-05 17:56:43  INFO     ++ Slice 69, stats: {'fp': 27, 'tp': 1, 'fn': 0}\n",
      "04-05 17:56:43  INFO     ++ Slice 70, stats: {'fp': 33, 'tp': 1, 'fn': 0}\n",
      "04-05 17:56:43  INFO     ++ Slice 71, stats: {'fp': 40, 'tp': 1, 'fn': 0}\n",
      "04-05 17:56:43  INFO     ++ Slice 72, stats: {'fp': 38, 'tp': 1, 'fn': 0}\n",
      "04-05 17:56:43  INFO     Loading 32/583\n"
     ]
    },
    {
     "name": "stdout",
     "output_type": "stream",
     "text": [
      "(15, 20, 20)\n"
     ]
    },
    {
     "name": "stderr",
     "output_type": "stream",
     "text": [
      "04-05 17:56:45  INFO     ++ Slice 42, stats: {'fp': 26, 'tp': 1, 'fn': 0}\n",
      "04-05 17:56:45  INFO     ++ Slice 43, stats: {'fp': 28, 'tp': 1, 'fn': 0}\n",
      "04-05 17:56:45  INFO     ++ Slice 44, stats: {'fp': 29, 'tp': 1, 'fn': 0}\n",
      "04-05 17:56:45  INFO     ++ Slice 45, stats: {'fp': 34, 'tp': 1, 'fn': 0}\n",
      "04-05 17:56:45  INFO     ++ Slice 46, stats: {'fp': 32, 'tp': 1, 'fn': 0}\n",
      "04-05 17:56:45  INFO     Loading 33/583\n"
     ]
    },
    {
     "name": "stdout",
     "output_type": "stream",
     "text": [
      "(17, 20, 20)\n"
     ]
    },
    {
     "name": "stderr",
     "output_type": "stream",
     "text": [
      "04-05 17:56:47  INFO     ++ Slice 131, stats: {'fp': 36, 'tp': 1, 'fn': 0}\n",
      "04-05 17:56:47  INFO     ++ Slice 132, stats: {'fp': 34, 'tp': 1, 'fn': 0}\n",
      "04-05 17:56:47  INFO     ++ Slice 133, stats: {'fp': 31, 'tp': 1, 'fn': 0}\n",
      "04-05 17:56:47  INFO     ++ Slice 134, stats: {'fp': 26, 'tp': 1, 'fn': 0}\n",
      "04-05 17:56:47  INFO     ++ Slice 135, stats: {'fp': 23, 'tp': 1, 'fn': 0}\n",
      "04-05 17:56:47  INFO     ++ Slice 136, stats: {'fp': 20, 'tp': 1, 'fn': 0}\n",
      "04-05 17:56:47  INFO     Loading 34/583\n"
     ]
    },
    {
     "name": "stdout",
     "output_type": "stream",
     "text": [
      "(16, 20, 20)\n"
     ]
    },
    {
     "name": "stderr",
     "output_type": "stream",
     "text": [
      "04-05 17:56:49  INFO     ++ Slice 101, stats: {'fp': 79, 'tp': 1, 'fn': 0}\n",
      "04-05 17:56:49  INFO     ++ Slice 102, stats: {'fp': 58, 'tp': 1, 'fn': 0}\n",
      "04-05 17:56:49  INFO     ++ Slice 103, stats: {'fp': 54, 'tp': 0, 'fn': 1}\n",
      "04-05 17:56:49  INFO     Loading 35/583\n"
     ]
    },
    {
     "name": "stdout",
     "output_type": "stream",
     "text": [
      "(13, 20, 20)\n"
     ]
    },
    {
     "name": "stderr",
     "output_type": "stream",
     "text": [
      "04-05 17:56:53  INFO     ++ Slice 129, stats: {'fp': 18, 'tp': 1, 'fn': 0}\n",
      "04-05 17:56:53  INFO     ++ Slice 130, stats: {'fp': 16, 'tp': 1, 'fn': 0}\n",
      "04-05 17:56:53  INFO     Loading 36/583\n"
     ]
    },
    {
     "name": "stdout",
     "output_type": "stream",
     "text": [
      "(15, 20, 20)\n"
     ]
    },
    {
     "name": "stderr",
     "output_type": "stream",
     "text": [
      "04-05 17:56:54  INFO     ++ Slice 50, stats: {'fp': 42, 'tp': 1, 'fn': 0}\n",
      "04-05 17:56:54  INFO     ++ Slice 51, stats: {'fp': 41, 'tp': 1, 'fn': 0}\n",
      "04-05 17:56:54  INFO     ++ Slice 52, stats: {'fp': 47, 'tp': 1, 'fn': 0}\n",
      "04-05 17:56:54  INFO     ++ Slice 66, stats: {'fp': 56, 'tp': 1, 'fn': 0}\n",
      "04-05 17:56:55  INFO     ++ Slice 67, stats: {'fp': 52, 'tp': 1, 'fn': 0}\n",
      "04-05 17:56:55  INFO     ++ Slice 94, stats: {'fp': 58, 'tp': 1, 'fn': 0}\n",
      "04-05 17:56:55  INFO     ++ Slice 95, stats: {'fp': 55, 'tp': 1, 'fn': 0}\n",
      "04-05 17:56:55  INFO     Loading 37/583\n"
     ]
    },
    {
     "name": "stdout",
     "output_type": "stream",
     "text": [
      "(17, 20, 20)\n"
     ]
    },
    {
     "name": "stderr",
     "output_type": "stream",
     "text": [
      "04-05 17:56:59  INFO     ++ Slice 85, stats: {'fp': 30, 'tp': 1, 'fn': 0}\n",
      "04-05 17:56:59  INFO     ++ Slice 86, stats: {'fp': 27, 'tp': 1, 'fn': 0}\n",
      "04-05 17:56:59  INFO     ++ Slice 87, stats: {'fp': 35, 'tp': 1, 'fn': 1}\n",
      "04-05 17:56:59  INFO     ++ Slice 88, stats: {'fp': 31, 'tp': 1, 'fn': 0}\n",
      "04-05 17:56:59  INFO     ++ Slice 89, stats: {'fp': 28, 'tp': 1, 'fn': 0}\n",
      "04-05 17:56:59  INFO     ++ Slice 100, stats: {'fp': 39, 'tp': 1, 'fn': 0}\n",
      "04-05 17:56:59  INFO     ++ Slice 101, stats: {'fp': 44, 'tp': 1, 'fn': 0}\n",
      "04-05 17:56:59  INFO     ++ Slice 102, stats: {'fp': 34, 'tp': 1, 'fn': 0}\n",
      "04-05 17:57:00  INFO     ++ Slice 103, stats: {'fp': 36, 'tp': 1, 'fn': 0}\n",
      "04-05 17:57:00  INFO     Loading 38/583\n"
     ]
    },
    {
     "name": "stdout",
     "output_type": "stream",
     "text": [
      "(16, 20, 20)\n"
     ]
    },
    {
     "name": "stderr",
     "output_type": "stream",
     "text": [
      "04-05 17:57:01  INFO     ++ Slice 122, stats: {'fp': 58, 'tp': 1, 'fn': 0}\n",
      "04-05 17:57:01  INFO     ++ Slice 123, stats: {'fp': 60, 'tp': 1, 'fn': 0}\n",
      "04-05 17:57:01  INFO     ++ Slice 124, stats: {'fp': 59, 'tp': 1, 'fn': 0}\n",
      "04-05 17:57:01  INFO     ++ Slice 125, stats: {'fp': 58, 'tp': 1, 'fn': 0}\n",
      "04-05 17:57:02  INFO     ++ Slice 126, stats: {'fp': 59, 'tp': 1, 'fn': 0}\n",
      "04-05 17:57:02  INFO     ++ Slice 127, stats: {'fp': 69, 'tp': 1, 'fn': 0}\n",
      "04-05 17:57:02  INFO     ++ Slice 128, stats: {'fp': 68, 'tp': 1, 'fn': 0}\n",
      "04-05 17:57:02  INFO     ++ Slice 129, stats: {'fp': 65, 'tp': 1, 'fn': 0}\n",
      "04-05 17:57:02  INFO     ++ Slice 130, stats: {'fp': 60, 'tp': 1, 'fn': 0}\n",
      "04-05 17:57:02  INFO     Loading 39/583\n"
     ]
    },
    {
     "name": "stdout",
     "output_type": "stream",
     "text": [
      "(16, 20, 20)\n"
     ]
    }
   ],
   "source": [
    "for filepath in filenames_train[0]:\n",
    "    common.multiproc_crop_generator(filenames_train,\n",
    "                                os.path.join(PATCHES_PATH,(filepath.split('/')[-1]+'_x.npz')),\n",
    "                                os.path.join(PATCHES_PATH,(filepath.split('/')[-1]+'_y.npz')),\n",
    "                                __load_and_store, store=True)"
   ]
  }
 ],
 "metadata": {
  "kernelspec": {
   "display_name": "Python 2",
   "language": "python",
   "name": "python2"
  },
  "language_info": {
   "codemirror_mode": {
    "name": "ipython",
    "version": 2
   },
   "file_extension": ".py",
   "mimetype": "text/x-python",
   "name": "python",
   "nbconvert_exporter": "python",
   "pygments_lexer": "ipython2",
   "version": "2.7.12"
  }
 },
 "nbformat": 4,
 "nbformat_minor": 2
}
