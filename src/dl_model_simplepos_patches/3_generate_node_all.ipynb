{
 "cells": [
  {
   "cell_type": "code",
   "execution_count": 2,
   "metadata": {
    "collapsed": true,
    "deletable": true,
    "editable": true
   },
   "outputs": [],
   "source": [
    "import sys\n",
    "sys.path.append('..')\n",
    "wp = '/home/jose/lung_cancer_ds_bowl/'"
   ]
  },
  {
   "cell_type": "code",
   "execution_count": 6,
   "metadata": {
    "collapsed": true
   },
   "outputs": [],
   "source": [
    "import os\n",
    "import random\n",
    "import logging\n",
    "import multiprocessing\n",
    "import numpy as np\n",
    "import pandas as pd\n",
    "from time import time\n",
    "import matplotlib.pyplot as plt\n",
    "from utils import plotting\n",
    "from dl_model_pos_patches import  common\n",
    "from sklearn import metrics\n",
    "from keras import backend as K\n",
    "from keras.preprocessing.image import ImageDataGenerator\n",
    "from keras.optimizers import Adam\n",
    "from keras.callbacks import ModelCheckpoint, Callback\n",
    "from dl_networks.sample_resnet import ResnetBuilder\n",
    "from dl_utils.tb_callback import TensorBoard"
   ]
  },
  {
   "cell_type": "code",
   "execution_count": 8,
   "metadata": {
    "collapsed": true
   },
   "outputs": [],
   "source": [
    "INPUT_PATH = '/mnt/hd2/preprocessed5'\n",
    "VALIDATION_PATH = '/mnt/hd2/preprocessed5_validation_luna'\n",
    "NODULES_PATH = wp + 'data/luna/annotations.csv'\n",
    "PATCHES_PATH = '/mnt/hd2/patches'\n",
    "\n",
    "K.set_image_dim_ordering('th')"
   ]
  },
  {
   "cell_type": "code",
   "execution_count": 13,
   "metadata": {
    "collapsed": true
   },
   "outputs": [],
   "source": [
    "### PATCHES GENERATION -----------------------------------------------------------------\n",
    "\n",
    "## PATIENTS FILE LIST\n",
    "patients_with_annotations = pd.read_csv(NODULES_PATH)  # filter patients with no annotations to avoid having to read them\n",
    "patients_with_annotations = list(set(patients_with_annotations['seriesuid']))\n",
    "patients_with_annotations = [\"luna_%s.npz\" % p.split('.')[-1] for p in patients_with_annotations]\n",
    "\n",
    "filenames = os.listdir(INPUT_PATH)\n",
    "filenames = [g for g in filenames if g.startswith('luna_')]\n",
    "filenames_train = [os.path.join(INPUT_PATH, fp) for fp in filenames if fp in patients_with_annotations]\n",
    "filenames_test = [os.path.join(VALIDATION_PATH, fp) for fp in os.listdir(VALIDATION_PATH) if fp in patients_with_annotations]\n",
    "filenames_dsb = [os.path.join(INPUT_PATH, g) for g in filenames if g.startswith('dsb_')]"
   ]
  },
  {
   "cell_type": "code",
   "execution_count": 11,
   "metadata": {
    "collapsed": true
   },
   "outputs": [],
   "source": [
    "def __load_and_store(filename):\n",
    "    patient_data = np.load(filename)['arr_0']\n",
    "    X, y, rois, stats = common.load_patient_3d_atlas(patient_data, \n",
    "                                                     discard_empty_nodules=True, output_rois=True, debug=True, thickness=1\n",
    "                                                    )\n",
    "    #logging.info(\"Patient: %s, stats: %s\" % (filename.split('/')[-1], stats))\n",
    "    return X, y, stats"
   ]
  },
  {
   "cell_type": "code",
   "execution_count": null,
   "metadata": {
    "collapsed": false
   },
   "outputs": [],
   "source": [
    "for filepath in filenames_train[0]:\n",
    "    common.multiproc_crop_generator(filepath,\n",
    "                                os.path.join(PATCHES_PATH,(filepath.split('/')[-1]+'_x.npz')),\n",
    "                                os.path.join(PATCHES_PATH,(filepath.split('/')[-1]+'_y.npz')),\n",
    "                                __load_and_store, store=True)"
   ]
  }
 ],
 "metadata": {
  "kernelspec": {
   "display_name": "Python 2",
   "language": "python",
   "name": "python2"
  },
  "language_info": {
   "codemirror_mode": {
    "name": "ipython",
    "version": 2
   },
   "file_extension": ".py",
   "mimetype": "text/x-python",
   "name": "python",
   "nbconvert_exporter": "python",
   "pygments_lexer": "ipython2",
   "version": "2.7.12"
  }
 },
 "nbformat": 4,
 "nbformat_minor": 2
}
