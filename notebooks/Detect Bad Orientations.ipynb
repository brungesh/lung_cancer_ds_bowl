{
 "cells": [
  {
   "cell_type": "code",
   "execution_count": 11,
   "metadata": {
    "collapsed": false,
    "deletable": true,
    "editable": true
   },
   "outputs": [],
   "source": [
    "import numpy as np\n",
    "import os\n",
    "import sys\n",
    "import math\n",
    "import random\n",
    "import pandas as pd\n",
    "import numpy as np\n",
    "import matplotlib.pyplot as plt\n",
    "import matplotlib.patches as mpatches\n",
    "sys.path.append('/home/mingot/lung_cancer_ds_bowl/src')\n",
    "from utils import plotting\n",
    "\n",
    "\n",
    "\n"
   ]
  },
  {
   "cell_type": "code",
   "execution_count": 5,
   "metadata": {
    "collapsed": false,
    "deletable": true,
    "editable": true
   },
   "outputs": [
    {
     "name": "stdout",
     "output_type": "stream",
     "text": [
      "patches df shape (120, 7)\n"
     ]
    }
   ],
   "source": [
    "SCORE_TH = 0.9\n",
    "#preds_df = pd.read_csv('/home/shared/output/resnet/nodules_patches_dl1_v11.csv')\n",
    "preds_df = pd.read_csv('/home/shared/output/execution_test/output_csv/dl1.csv')\n",
    "preds_df = preds_df[preds_df[\"score\"] > SCORE_TH]\n",
    "print 'patches df shape', preds_df.shape\n"
   ]
  },
  {
   "cell_type": "code",
   "execution_count": 3,
   "metadata": {
    "collapsed": false,
    "deletable": true,
    "editable": true,
    "scrolled": false
   },
   "outputs": [
    {
     "data": {
      "image/png": "[encoded data removed]",
      "text/plain": [
       "<matplotlib.figure.Figure at 0x7f9311e71a50>"
      ]
     },
     "metadata": {},
     "output_type": "display_data"
    }
   ],
   "source": [
    "#pdata = np.load('/home/shared/output/execution_test/preprocessed_data/dsb_026470d51482c93efc18b9803159c960.npz')['arr_0']\n",
    "# pid = 'e9a27e2645e1fad9434ce765f678585f'\n",
    "# pdata = np.load('/mnt/hd2/preprocessed5/dsb_%s.npz' % pid)['arr_0']\n",
    "\n",
    "\n",
    "import os\n",
    "import sys\n",
    "import random\n",
    "import numpy as np\n",
    "sys.path.append('/home/mingot/lung_cancer_ds_bowl/src')\n",
    "from utils import plotting\n",
    "\n",
    "patients = os.listdir('/mnt/hd2/preprocessed5/')\n",
    "patients = [p for p in patients if p.startswith('dsb')]\n",
    "\n",
    "# patients = os.listdir('/mnt/hd2/orientation_fix')\n",
    "# for i in range(20):\n",
    "#     pp = random.choice(patients)\n",
    "#     pdata = np.load('/mnt/hd2/preprocessed5/%s' % pp)['arr_0']\n",
    "#     print \"Patient: %s, shape: %s\" % (pp, str(pdata.shape))\n",
    "#     #plotting.multiplot(pdata[0])\n",
    "#     plotting.multiplot(pdata[1])\n",
    "\n",
    "\n",
    "pid = '64234780b8febcc6b0971d7f0a2d58f8'\n",
    "pdata = np.load('/mnt/hd2/preprocessed_stage2/dsb_%s.npz' % pid)['arr_0']\n",
    "plotting.multiplot(pdata[1])\n",
    "# pdata = np.load('/mnt/hd2/orientation_fix/dsb_%s.npz' % pid)['arr_0']\n",
    "# print \"Patient: %s, shape: %s\" % (pid, str(pdata.shape))\n",
    "# #plotting.multiplot(pdata[0])\n",
    "# plotting.multiplot(pdata[1])"
   ]
  },
  {
   "cell_type": "code",
   "execution_count": null,
   "metadata": {
    "collapsed": true,
    "deletable": true,
    "editable": true
   },
   "outputs": [],
   "source": []
  }
 ],
 "metadata": {
  "kernelspec": {
   "display_name": "Python 2",
   "language": "python",
   "name": "python2"
  },
  "language_info": {
   "codemirror_mode": {
    "name": "ipython",
    "version": 2
   },
   "file_extension": ".py",
   "mimetype": "text/x-python",
   "name": "python",
   "nbconvert_exporter": "python",
   "pygments_lexer": "ipython2",
   "version": "2.7.12"
  }
 },
 "nbformat": 4,
 "nbformat_minor": 2
}
