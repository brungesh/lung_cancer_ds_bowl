{
 "cells": [
  {
   "cell_type": "code",
   "execution_count": 10,
   "metadata": {
    "collapsed": false
   },
   "outputs": [],
   "source": [
    "import os\n",
    "import sys\n",
    "import random\n",
    "import pandas as pd\n",
    "import numpy as np\n",
    "import dicom\n",
    "import matplotlib.pyplot as plt\n",
    "from time import time\n",
    "sys.path.append('/home/mingot/lung_cancer_ds_bowl/src')\n",
    "from utils import plotting, reading, preprocessing\n",
    "from dl_model_patches import common\n",
    "from vessel_segmentation.vessel_segmentation import get_vessel_mask, substract_from_existing_mask\n"
   ]
  },
  {
   "cell_type": "code",
   "execution_count": 25,
   "metadata": {
    "collapsed": false
   },
   "outputs": [
    {
     "name": "stdout",
     "output_type": "stream",
     "text": [
      "66\n",
      "67\n",
      "68\n",
      "85\n"
     ]
    }
   ],
   "source": [
    "patients = [p for p in os.listdir('/mnt/hd2/preprocessed5') if p.startswith('luna')]\n",
    "patient_data = np.load(os.path.join('/mnt/hd2/preprocessed5',patients[5]))['arr_0']\n",
    "\n",
    "plotting.slices_with_nodules(patient_data[2])\n",
    "\n"
   ]
  },
  {
   "cell_type": "code",
   "execution_count": 26,
   "metadata": {
    "collapsed": false
   },
   "outputs": [
    {
     "name": "stdout",
     "output_type": "stream",
     "text": [
      "Computing vessels mask...\n",
      "Tiempo calculo: 179.060377121\n"
     ]
    }
   ],
   "source": [
    "print 'Computing vessels mask...'\n",
    "tstart = time()\n",
    "vessel_mask = get_vessel_mask(patient_data[0], binarize_threshold=25)\n",
    "# if dilate:\n",
    "#     vessel_mask = dilation(vessel_mask)\n",
    "print 'Tiempo calculo:', time() - tstart"
   ]
  },
  {
   "cell_type": "code",
   "execution_count": 27,
   "metadata": {
    "collapsed": false
   },
   "outputs": [
    {
     "name": "stdout",
     "output_type": "stream",
     "text": [
      "(150, 512, 512)\n"
     ]
    },
    {
     "data": {
      "image/png": "[encoded data removed]",
      "text/plain": [
       "<matplotlib.figure.Figure at 0x7efda48ee910>"
      ]
     },
     "metadata": {},
     "output_type": "display_data"
    },
    {
     "data": {
      "image/png": "[encoded data removed]",
      "text/plain": [
       "<matplotlib.figure.Figure at 0x7efda490c3d0>"
      ]
     },
     "metadata": {},
     "output_type": "display_data"
    }
   ],
   "source": [
    "new_lung_mask = substract_from_existing_mask(patient_data[1], vessel_mask)\n",
    "print new_lung_mask.shape\n",
    "\n",
    "nslice = 66\n",
    "plotting.plot_mask(patient_data[1,nslice], patient_data[2,nslice])\n",
    "plotting.plot_mask(new_lung_mask[nslice], patient_data[2,nslice])\n"
   ]
  },
  {
   "cell_type": "code",
   "execution_count": null,
   "metadata": {
    "collapsed": true
   },
   "outputs": [],
   "source": []
  }
 ],
 "metadata": {
  "kernelspec": {
   "display_name": "Python 2",
   "language": "python",
   "name": "python2"
  },
  "language_info": {
   "codemirror_mode": {
    "name": "ipython",
    "version": 2
   },
   "file_extension": ".py",
   "mimetype": "text/x-python",
   "name": "python",
   "nbconvert_exporter": "python",
   "pygments_lexer": "ipython2",
   "version": "2.7.12"
  }
 },
 "nbformat": 4,
 "nbformat_minor": 2
}
